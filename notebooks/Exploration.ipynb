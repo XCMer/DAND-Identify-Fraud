{
 "cells": [
  {
   "cell_type": "markdown",
   "metadata": {
    "toc": "true"
   },
   "source": [
    " # Table of Contents\n",
    "<div class=\"toc\" style=\"margin-top: 1em;\"><ul class=\"toc-item\" id=\"toc-level0\"><li><span><a href=\"http://localhost:8891/notebooks/notebooks/Exploration.ipynb#Load-dataset\" data-toc-modified-id=\"Load-dataset-1\"><span class=\"toc-item-num\">1&nbsp;&nbsp;</span>Load dataset</a></span></li><li><span><a href=\"http://localhost:8891/notebooks/notebooks/Exploration.ipynb#Basic-analysis\" data-toc-modified-id=\"Basic-analysis-2\"><span class=\"toc-item-num\">2&nbsp;&nbsp;</span>Basic analysis</a></span><ul class=\"toc-item\"><li><span><a href=\"http://localhost:8891/notebooks/notebooks/Exploration.ipynb#No.-of-records\" data-toc-modified-id=\"No.-of-records-2.1\"><span class=\"toc-item-num\">2.1&nbsp;&nbsp;</span>No. of records</a></span></li><li><span><a href=\"http://localhost:8891/notebooks/notebooks/Exploration.ipynb#No.-of-features\" data-toc-modified-id=\"No.-of-features-2.2\"><span class=\"toc-item-num\">2.2&nbsp;&nbsp;</span>No. of features</a></span></li><li><span><a href=\"http://localhost:8891/notebooks/notebooks/Exploration.ipynb#No.-of-persons-of-interest-in-the-dataset\" data-toc-modified-id=\"No.-of-persons-of-interest-in-the-dataset-2.3\"><span class=\"toc-item-num\">2.3&nbsp;&nbsp;</span>No. of persons of interest in the dataset</a></span></li><li><span><a href=\"http://localhost:8891/notebooks/notebooks/Exploration.ipynb#No.-of-persons-of-interest-in-total\" data-toc-modified-id=\"No.-of-persons-of-interest-in-total-2.4\"><span class=\"toc-item-num\">2.4&nbsp;&nbsp;</span>No. of persons of interest in total</a></span></li></ul></li><li><span><a href=\"http://localhost:8891/notebooks/notebooks/Exploration.ipynb#Explore-features-of-a-person\" data-toc-modified-id=\"Explore-features-of-a-person-3\"><span class=\"toc-item-num\">3&nbsp;&nbsp;</span>Explore features of a person</a></span><ul class=\"toc-item\"><li><span><a href=\"http://localhost:8891/notebooks/notebooks/Exploration.ipynb#List-of-all-features\" data-toc-modified-id=\"List-of-all-features-3.1\"><span class=\"toc-item-num\">3.1&nbsp;&nbsp;</span>List of all features</a></span></li><li><span><a href=\"http://localhost:8891/notebooks/notebooks/Exploration.ipynb#Total-value-of-stocks\" data-toc-modified-id=\"Total-value-of-stocks-3.2\"><span class=\"toc-item-num\">3.2&nbsp;&nbsp;</span>Total value of stocks</a></span></li><li><span><a href=\"http://localhost:8891/notebooks/notebooks/Exploration.ipynb#No.-of-email-messages-to-persons-of-interest\" data-toc-modified-id=\"No.-of-email-messages-to-persons-of-interest-3.3\"><span class=\"toc-item-num\">3.3&nbsp;&nbsp;</span>No. of email messages to persons of interest</a></span></li></ul></li></ul></div>"
   ]
  },
  {
   "cell_type": "code",
   "execution_count": 6,
   "metadata": {},
   "outputs": [],
   "source": [
    "import pickle\n",
    "import operator"
   ]
  },
  {
   "cell_type": "markdown",
   "metadata": {},
   "source": [
    "## Load dataset"
   ]
  },
  {
   "cell_type": "code",
   "execution_count": 2,
   "metadata": {},
   "outputs": [],
   "source": [
    "enron_data = pickle.load(open(\"../final_project_dataset.pkl\", \"r\"))"
   ]
  },
  {
   "cell_type": "markdown",
   "metadata": {
    "collapsed": true
   },
   "source": [
    "## Basic analysis"
   ]
  },
  {
   "cell_type": "markdown",
   "metadata": {},
   "source": [
    "### No. of records"
   ]
  },
  {
   "cell_type": "code",
   "execution_count": 4,
   "metadata": {},
   "outputs": [
    {
     "name": "stdout",
     "output_type": "stream",
     "text": [
      "No. of records: 146\n"
     ]
    }
   ],
   "source": [
    "print \"No. of records: %d\" % len(enron_data)"
   ]
  },
  {
   "cell_type": "markdown",
   "metadata": {},
   "source": [
    "### No. of features"
   ]
  },
  {
   "cell_type": "code",
   "execution_count": 5,
   "metadata": {},
   "outputs": [
    {
     "name": "stdout",
     "output_type": "stream",
     "text": [
      "No. of features: 21\n"
     ]
    }
   ],
   "source": [
    "for key, value in enron_data.iteritems():\n",
    "    print \"No. of features: %d\" % len(value)\n",
    "    break"
   ]
  },
  {
   "cell_type": "markdown",
   "metadata": {},
   "source": [
    "### No. of persons of interest in the dataset"
   ]
  },
  {
   "cell_type": "code",
   "execution_count": 7,
   "metadata": {},
   "outputs": [
    {
     "name": "stdout",
     "output_type": "stream",
     "text": [
      "No. of PoI: 18\n"
     ]
    }
   ],
   "source": [
    "no_persons_of_interest = len(filter(operator.itemgetter('poi'), enron_data.values()))\n",
    "print \"No. of PoI: %d\" % no_persons_of_interest"
   ]
  },
  {
   "cell_type": "markdown",
   "metadata": {},
   "source": [
    "### No. of persons of interest in total"
   ]
  },
  {
   "cell_type": "code",
   "execution_count": 11,
   "metadata": {},
   "outputs": [
    {
     "name": "stdout",
     "output_type": "stream",
     "text": [
      "Total no. of PoI: 35\n"
     ]
    }
   ],
   "source": [
    "no_persons_of_interest_total = 0\n",
    "\n",
    "with open('../poi_names.txt', 'rt') as f:\n",
    "    poi_names = f.readlines()\n",
    "    \n",
    "    # Ignore the first two lines\n",
    "    poi_names = poi_names[2:]\n",
    "    \n",
    "    no_persons_of_interest_total = len(poi_names)\n",
    "            \n",
    "print \"Total no. of PoI: %d\" % no_persons_of_interest_total"
   ]
  },
  {
   "cell_type": "markdown",
   "metadata": {},
   "source": [
    "## Explore features of a person"
   ]
  },
  {
   "cell_type": "markdown",
   "metadata": {},
   "source": [
    "### List of all features"
   ]
  },
  {
   "cell_type": "code",
   "execution_count": 12,
   "metadata": {},
   "outputs": [
    {
     "name": "stdout",
     "output_type": "stream",
     "text": [
      "['salary', 'to_messages', 'deferral_payments', 'total_payments', 'exercised_stock_options', 'bonus', 'restricted_stock', 'shared_receipt_with_poi', 'restricted_stock_deferred', 'total_stock_value', 'expenses', 'loan_advances', 'from_messages', 'other', 'from_this_person_to_poi', 'poi', 'director_fees', 'deferred_income', 'long_term_incentive', 'email_address', 'from_poi_to_this_person']\n"
     ]
    }
   ],
   "source": [
    "for key, value in enron_data.iteritems():\n",
    "    print value.keys()\n",
    "    break"
   ]
  },
  {
   "cell_type": "markdown",
   "metadata": {},
   "source": [
    "### Total value of stocks"
   ]
  },
  {
   "cell_type": "code",
   "execution_count": 13,
   "metadata": {},
   "outputs": [
    {
     "data": {
      "text/plain": [
       "1095040"
      ]
     },
     "execution_count": 13,
     "metadata": {},
     "output_type": "execute_result"
    }
   ],
   "source": [
    "enron_data['PRENTICE JAMES']['total_stock_value']"
   ]
  },
  {
   "cell_type": "markdown",
   "metadata": {},
   "source": [
    "### No. of email messages to persons of interest"
   ]
  },
  {
   "cell_type": "code",
   "execution_count": 14,
   "metadata": {},
   "outputs": [
    {
     "data": {
      "text/plain": [
       "11"
      ]
     },
     "execution_count": 14,
     "metadata": {},
     "output_type": "execute_result"
    }
   ],
   "source": [
    "enron_data['COLWELL WESLEY']['from_this_person_to_poi']"
   ]
  },
  {
   "cell_type": "code",
   "execution_count": null,
   "metadata": {},
   "outputs": [],
   "source": []
  }
 ],
 "metadata": {
  "kernelspec": {
   "display_name": "Python 2",
   "language": "python",
   "name": "python2"
  },
  "language_info": {
   "codemirror_mode": {
    "name": "ipython",
    "version": 2
   },
   "file_extension": ".py",
   "mimetype": "text/x-python",
   "name": "python",
   "nbconvert_exporter": "python",
   "pygments_lexer": "ipython2",
   "version": "2.7.14"
  },
  "toc": {
   "nav_menu": {},
   "number_sections": true,
   "sideBar": true,
   "skip_h1_title": true,
   "toc_cell": true,
   "toc_position": {},
   "toc_section_display": "block",
   "toc_window_display": false
  }
 },
 "nbformat": 4,
 "nbformat_minor": 2
}
